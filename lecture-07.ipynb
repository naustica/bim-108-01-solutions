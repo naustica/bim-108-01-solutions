{
 "cells": [
  {
   "cell_type": "markdown",
   "metadata": {
    "deletable": false
   },
   "source": [
    "# RDF Syntax: Eine Breite Wahl"
   ]
  },
  {
   "cell_type": "markdown",
   "metadata": {
    "deletable": false
   },
   "source": [
    "In der Vorlesung haben wir dargestellt wie man einen RDF Graphen als Tripelmenge mittels verschiedenen RDF Syntaxen in Textdateien als Zeichenfolge serialisieren kann. Dies ermöglicht das maschinelle Lesen und Speichern von RDF. In dieser Übung werden Sie die verschiedenen RDF Syntaxen anhand Beispielen näher kennenlernen. Wir verwenden hier die Python Programmiersprache um RDF zu lesen, schreien, und verarbeiten. Wir beginnen mit dem Lesen von RDF in N-Triples Syntax und das Ausgeben der einzelnen Tripel."
   ]
  },
  {
   "cell_type": "code",
   "execution_count": 1,
   "metadata": {
    "deletable": false
   },
   "outputs": [
    {
     "name": "stdout",
     "output_type": "stream",
     "text": [
      "subject = http://example.org#Wako5UJ_7t\n",
      "  predicate = http://www.w3.org/1999/02/22-rdf-syntax-ns#type\n",
      "    object = http://example.org#Album\n",
      "subject = http://example.org#Wako5UJ_7t\n",
      "  predicate = http://example.org#title\n",
      "    object = The Dark Side of the Moon\n"
     ]
    }
   ],
   "source": [
    "from rdflib import Graph\n",
    "\n",
    "rdf = \"\"\"\n",
    "<http://example.org#Wako5UJ_7t> <http://www.w3.org/1999/02/22-rdf-syntax-ns#type> <http://example.org#Album> .\n",
    "<http://example.org#Wako5UJ_7t> <http://example.org#title> \"The Dark Side of the Moon\" .\n",
    "\"\"\"\n",
    "\n",
    "g = Graph()\n",
    "r = g.parse(data=rdf, format='nt')\n",
    "\n",
    "for s, p, o in g:\n",
    "    print('subject = {}'.format(s))\n",
    "    print('  predicate = {}'.format(p))\n",
    "    print('    object = {}'.format(o))"
   ]
  },
  {
   "cell_type": "markdown",
   "metadata": {
    "deletable": false
   },
   "source": [
    "Was erwarten Sie hier als Resultat? Wieviele Tripel enthält die Tripelmenge?"
   ]
  },
  {
   "cell_type": "code",
   "execution_count": 2,
   "metadata": {
    "deletable": false
   },
   "outputs": [
    {
     "name": "stdout",
     "output_type": "stream",
     "text": [
      "2\n"
     ]
    }
   ],
   "source": [
    "print(len(g))\n",
    "# einmal das Triple: <http://example.org#Wako5UJ_7t> <http://www.w3.org/1999/02/22-rdf-syntax-ns#type> <http://example.org#Album> .\n",
    "# und einmal das Triple: <http://example.org#Wako5UJ_7t> <http://example.org#title> \"The Dark Side of the Moon\" .\n",
    "#also 2 Tripel in der Tripelmenge"
   ]
  },
  {
   "cell_type": "markdown",
   "metadata": {
    "deletable": false
   },
   "source": [
    "Nun serialisieren wir den Graphen mittels einer anderen Syntax, z.B. Turtle."
   ]
  },
  {
   "cell_type": "code",
   "execution_count": 3,
   "metadata": {
    "deletable": false
   },
   "outputs": [
    {
     "name": "stdout",
     "output_type": "stream",
     "text": [
      "@prefix ns1: <http://example.org#> .\n",
      "@prefix rdf: <http://www.w3.org/1999/02/22-rdf-syntax-ns#> .\n",
      "@prefix rdfs: <http://www.w3.org/2000/01/rdf-schema#> .\n",
      "@prefix xml: <http://www.w3.org/XML/1998/namespace> .\n",
      "@prefix xsd: <http://www.w3.org/2001/XMLSchema#> .\n",
      "\n",
      "ns1:Wako5UJ_7t a ns1:Album ;\n",
      "    ns1:title \"The Dark Side of the Moon\" .\n",
      "\n",
      "\n"
     ]
    }
   ],
   "source": [
    "print(g.serialize(format='turtle').decode('utf-8'))"
   ]
  },
  {
   "cell_type": "markdown",
   "metadata": {
    "deletable": false
   },
   "source": [
    "Der Präfix (*prefix*) `ns1:` für `http://example.org#` ist zwar technisch OK aber er ist nicht gerade aussagekräftig. Eine bessere Wahl wäre `ex:`. Dafür müssen wir den Präfix binden (registrieren)."
   ]
  },
  {
   "cell_type": "code",
   "execution_count": 4,
   "metadata": {
    "deletable": false
   },
   "outputs": [
    {
     "name": "stdout",
     "output_type": "stream",
     "text": [
      "@prefix ex: <http://example.org#> .\n",
      "@prefix rdf: <http://www.w3.org/1999/02/22-rdf-syntax-ns#> .\n",
      "@prefix rdfs: <http://www.w3.org/2000/01/rdf-schema#> .\n",
      "@prefix xml: <http://www.w3.org/XML/1998/namespace> .\n",
      "@prefix xsd: <http://www.w3.org/2001/XMLSchema#> .\n",
      "\n",
      "ex:Wako5UJ_7t a ex:Album ;\n",
      "    ex:title \"The Dark Side of the Moon\" .\n",
      "\n",
      "\n"
     ]
    }
   ],
   "source": [
    "g = Graph()\n",
    "\n",
    "g.bind('ex', 'http://example.org#')\n",
    "\n",
    "r = g.parse(data=rdf, format='nt')\n",
    "\n",
    "print(g.serialize(format='turtle').decode('utf-8'))\n",
    "\n",
    "# Was hat sich geändert gegenüber dem vorherigen Beispiel? Antwort: Das Präfix für http://example.org#. "
   ]
  },
  {
   "cell_type": "markdown",
   "metadata": {
    "deletable": false
   },
   "source": [
    "Nun serialisieren wir den Graphen als RDF/XML. Das Resultat der Serialisierung ist implementierungsabhängig. Es werden hier z.B. weder XML Entitäten noch der XML *base namespace* verwendet. Solche Entscheidungen können wir allerdings der Sprache überlassen: Wir müssen uns darüber nicht sonderlich kümmern."
   ]
  },
  {
   "cell_type": "code",
   "execution_count": 5,
   "metadata": {
    "deletable": false
   },
   "outputs": [
    {
     "name": "stdout",
     "output_type": "stream",
     "text": [
      "<?xml version=\"1.0\" encoding=\"UTF-8\"?>\n",
      "<rdf:RDF\n",
      "   xmlns:ex=\"http://example.org#\"\n",
      "   xmlns:rdf=\"http://www.w3.org/1999/02/22-rdf-syntax-ns#\"\n",
      ">\n",
      "  <rdf:Description rdf:about=\"http://example.org#Wako5UJ_7t\">\n",
      "    <ex:title>The Dark Side of the Moon</ex:title>\n",
      "    <rdf:type rdf:resource=\"http://example.org#Album\"/>\n",
      "  </rdf:Description>\n",
      "</rdf:RDF>\n",
      "\n"
     ]
    }
   ],
   "source": [
    "print(g.serialize(format='xml').decode('utf-8'))"
   ]
  },
  {
   "cell_type": "markdown",
   "metadata": {
    "deletable": false
   },
   "source": [
    "Nehmen Sie nun das RDF/XML als Input und serialisieren Sie es nach N-Triples. Zwischen solchen RDF Syntaxen zu konvertieren ist also sehr einfach. Versuchen Sie das auch mal online hier: http://www.easyrdf.org/converter. Welche weiteren Syntaxen gibt es?"
   ]
  },
  {
   "cell_type": "code",
   "execution_count": 6,
   "metadata": {
    "deletable": false
   },
   "outputs": [
    {
     "ename": "PluginException",
     "evalue": "No plugin registered for ([TODO], <class 'rdflib.parser.Parser'>)",
     "output_type": "error",
     "traceback": [
      "\u001b[0;31m---------------------------------------------------------------------------\u001b[0m",
      "\u001b[0;31mKeyError\u001b[0m                                  Traceback (most recent call last)",
      "\u001b[0;32m~/anaconda3/lib/python3.6/site-packages/rdflib/plugin.py\u001b[0m in \u001b[0;36mget\u001b[0;34m(name, kind)\u001b[0m\n\u001b[1;32m     99\u001b[0m     \u001b[0;32mtry\u001b[0m\u001b[0;34m:\u001b[0m\u001b[0;34m\u001b[0m\u001b[0m\n\u001b[0;32m--> 100\u001b[0;31m         \u001b[0mp\u001b[0m \u001b[0;34m=\u001b[0m \u001b[0m_plugins\u001b[0m\u001b[0;34m[\u001b[0m\u001b[0;34m(\u001b[0m\u001b[0mname\u001b[0m\u001b[0;34m,\u001b[0m \u001b[0mkind\u001b[0m\u001b[0;34m)\u001b[0m\u001b[0;34m]\u001b[0m\u001b[0;34m\u001b[0m\u001b[0m\n\u001b[0m\u001b[1;32m    101\u001b[0m     \u001b[0;32mexcept\u001b[0m \u001b[0mKeyError\u001b[0m\u001b[0;34m:\u001b[0m\u001b[0;34m\u001b[0m\u001b[0m\n",
      "\u001b[0;31mKeyError\u001b[0m: ('[TODO]', <class 'rdflib.parser.Parser'>)",
      "\nDuring handling of the above exception, another exception occurred:\n",
      "\u001b[0;31mPluginException\u001b[0m                           Traceback (most recent call last)",
      "\u001b[0;32m<ipython-input-6-6ece46da15de>\u001b[0m in \u001b[0;36m<module>\u001b[0;34m()\u001b[0m\n\u001b[1;32m      4\u001b[0m \u001b[0;34m\u001b[0m\u001b[0m\n\u001b[1;32m      5\u001b[0m \u001b[0mg\u001b[0m \u001b[0;34m=\u001b[0m \u001b[0mGraph\u001b[0m\u001b[0;34m(\u001b[0m\u001b[0;34m)\u001b[0m\u001b[0;34m\u001b[0m\u001b[0m\n\u001b[0;32m----> 6\u001b[0;31m \u001b[0mr\u001b[0m \u001b[0;34m=\u001b[0m \u001b[0mg\u001b[0m\u001b[0;34m.\u001b[0m\u001b[0mparse\u001b[0m\u001b[0;34m(\u001b[0m\u001b[0mdata\u001b[0m\u001b[0;34m=\u001b[0m\u001b[0mrdf\u001b[0m\u001b[0;34m,\u001b[0m \u001b[0mformat\u001b[0m\u001b[0;34m=\u001b[0m\u001b[0;34m'[TODO]'\u001b[0m\u001b[0;34m)\u001b[0m\u001b[0;34m\u001b[0m\u001b[0m\n\u001b[0m\u001b[1;32m      7\u001b[0m \u001b[0mprint\u001b[0m\u001b[0;34m(\u001b[0m\u001b[0mg\u001b[0m\u001b[0;34m.\u001b[0m\u001b[0mserialize\u001b[0m\u001b[0;34m(\u001b[0m\u001b[0mformat\u001b[0m\u001b[0;34m=\u001b[0m\u001b[0;34m'[TODO]'\u001b[0m\u001b[0;34m)\u001b[0m\u001b[0;34m.\u001b[0m\u001b[0mdecode\u001b[0m\u001b[0;34m(\u001b[0m\u001b[0;34m'utf-8'\u001b[0m\u001b[0;34m)\u001b[0m\u001b[0;34m)\u001b[0m\u001b[0;34m\u001b[0m\u001b[0m\n\u001b[1;32m      8\u001b[0m \u001b[0;34m\u001b[0m\u001b[0m\n",
      "\u001b[0;32m~/anaconda3/lib/python3.6/site-packages/rdflib/graph.py\u001b[0m in \u001b[0;36mparse\u001b[0;34m(self, source, publicID, format, location, file, data, **args)\u001b[0m\n\u001b[1;32m   1039\u001b[0m             \u001b[0;31m# \"expicitly specify one with the format argument.\" % source)\u001b[0m\u001b[0;34m\u001b[0m\u001b[0;34m\u001b[0m\u001b[0m\n\u001b[1;32m   1040\u001b[0m             \u001b[0mformat\u001b[0m \u001b[0;34m=\u001b[0m \u001b[0;34m\"application/rdf+xml\"\u001b[0m\u001b[0;34m\u001b[0m\u001b[0m\n\u001b[0;32m-> 1041\u001b[0;31m         \u001b[0mparser\u001b[0m \u001b[0;34m=\u001b[0m \u001b[0mplugin\u001b[0m\u001b[0;34m.\u001b[0m\u001b[0mget\u001b[0m\u001b[0;34m(\u001b[0m\u001b[0mformat\u001b[0m\u001b[0;34m,\u001b[0m \u001b[0mParser\u001b[0m\u001b[0;34m)\u001b[0m\u001b[0;34m(\u001b[0m\u001b[0;34m)\u001b[0m\u001b[0;34m\u001b[0m\u001b[0m\n\u001b[0m\u001b[1;32m   1042\u001b[0m         \u001b[0;32mtry\u001b[0m\u001b[0;34m:\u001b[0m\u001b[0;34m\u001b[0m\u001b[0m\n\u001b[1;32m   1043\u001b[0m             \u001b[0mparser\u001b[0m\u001b[0;34m.\u001b[0m\u001b[0mparse\u001b[0m\u001b[0;34m(\u001b[0m\u001b[0msource\u001b[0m\u001b[0;34m,\u001b[0m \u001b[0mself\u001b[0m\u001b[0;34m,\u001b[0m \u001b[0;34m**\u001b[0m\u001b[0margs\u001b[0m\u001b[0;34m)\u001b[0m\u001b[0;34m\u001b[0m\u001b[0m\n",
      "\u001b[0;32m~/anaconda3/lib/python3.6/site-packages/rdflib/plugin.py\u001b[0m in \u001b[0;36mget\u001b[0;34m(name, kind)\u001b[0m\n\u001b[1;32m    101\u001b[0m     \u001b[0;32mexcept\u001b[0m \u001b[0mKeyError\u001b[0m\u001b[0;34m:\u001b[0m\u001b[0;34m\u001b[0m\u001b[0m\n\u001b[1;32m    102\u001b[0m         raise PluginException(\n\u001b[0;32m--> 103\u001b[0;31m             \"No plugin registered for (%s, %s)\" % (name, kind))\n\u001b[0m\u001b[1;32m    104\u001b[0m     \u001b[0;32mreturn\u001b[0m \u001b[0mp\u001b[0m\u001b[0;34m.\u001b[0m\u001b[0mgetClass\u001b[0m\u001b[0;34m(\u001b[0m\u001b[0;34m)\u001b[0m\u001b[0;34m\u001b[0m\u001b[0m\n\u001b[1;32m    105\u001b[0m \u001b[0;34m\u001b[0m\u001b[0m\n",
      "\u001b[0;31mPluginException\u001b[0m: No plugin registered for ([TODO], <class 'rdflib.parser.Parser'>)"
     ]
    }
   ],
   "source": [
    "rdf = \"\"\"\n",
    "[TODO]\n",
    "\"\"\"\n",
    "\n",
    "g = Graph()\n",
    "r = g.parse(data=rdf, format='[TODO]')\n",
    "print(g.serialize(format='[TODO]').decode('utf-8'))\n",
    "\n",
    "# Wieviele Syntaxen unterstützt der easyrdf.org converter? Antwort: 7 Syntaxen können vom converter angenommen werden. Ausgegeben können 11."
   ]
  },
  {
   "cell_type": "markdown",
   "metadata": {
    "deletable": false
   },
   "source": [
    "Natürlich können Sie RDF auch aus Dateien lesen und schreiben. Führen Sie den nächsten Programmcode aus und schauen Sie sich die Dateien `example.rdf` und `example.n3` an. Wie Sie am Beispiel entnehmen können, dann man RDF Graphen auch programmatisch manipulieren."
   ]
  },
  {
   "cell_type": "code",
   "execution_count": 7,
   "metadata": {
    "deletable": false
   },
   "outputs": [
    {
     "name": "stdout",
     "output_type": "stream",
     "text": [
      "Graph size: 2 triples\n",
      "Graph size: 3 triples\n"
     ]
    }
   ],
   "source": [
    "from rdflib import Graph, URIRef, Literal\n",
    "from rdflib.namespace import RDFS\n",
    "\n",
    "g = Graph()\n",
    "r = g.parse('example.rdf')\n",
    "\n",
    "print('Graph size: {} triples'.format(len(g)))\n",
    "\n",
    "g.add((URIRef('http://example.org#Wako5UJ_7t'), RDFS.label, Literal('Harvest, EMI')))\n",
    "\n",
    "print('Graph size: {} triples'.format(len(g)))\n",
    "\n",
    "g.serialize(destination='example.n3', format='n3')"
   ]
  },
  {
   "cell_type": "markdown",
   "metadata": {
    "deletable": false
   },
   "source": [
    "Versuchen Sie nun ein eigenes Beispiel zu konstruieren. Wählen Sie ein Thema, z.B. Bücher oder Personen, und schreiben Sie RDF in einer Syntax. Sie dürfen das RDF auch programmatisch schreiben indem Sie die `g.add()` Funktion benutzen. Konvertieren Sie dieses zu einer anderen Syntax. Lesen und schreiben Sie die jeweilige Serialisierung in Dateien. \n",
    "\n",
    "Bonus: Versuchen Sie mittels der Dokumentation http://rdflib.readthedocs.io/en/latest/apidocs/rdflib.html ein Triple zu löschen."
   ]
  },
  {
   "cell_type": "code",
   "execution_count": 25,
   "metadata": {
    "deletable": false
   },
   "outputs": [
    {
     "name": "stdout",
     "output_type": "stream",
     "text": [
      "@prefix ex: <http://example.org#> .\n",
      "@prefix rdf: <http://www.w3.org/1999/02/22-rdf-syntax-ns#> .\n",
      "@prefix rdfs: <http://www.w3.org/2000/01/rdf-schema#> .\n",
      "@prefix xml: <http://www.w3.org/XML/1998/namespace> .\n",
      "@prefix xsd: <http://www.w3.org/2001/XMLSchema#> .\n",
      "\n",
      "<http://example.org#123456> a ex:buch ;\n",
      "    ex:autor \"Blackwood\" ;\n",
      "    ex:title \"Das leere Haus\" .\n",
      "\n",
      "\n"
     ]
    }
   ],
   "source": [
    "g = Graph()\n",
    "r = g.parse('sammlung.rdf', format='nt')\n",
    "g.bind('ex', 'http://example.org#')\n",
    "print(g.serialize(format='turtle').decode('utf-8'))"
   ]
  },
  {
   "cell_type": "code",
   "execution_count": 26,
   "metadata": {},
   "outputs": [
    {
     "name": "stdout",
     "output_type": "stream",
     "text": [
      "<?xml version=\"1.0\" encoding=\"UTF-8\"?>\n",
      "<rdf:RDF\n",
      "   xmlns:ex=\"http://example.org#\"\n",
      "   xmlns:rdf=\"http://www.w3.org/1999/02/22-rdf-syntax-ns#\"\n",
      ">\n",
      "  <rdf:Description rdf:about=\"http://example.org#123456\">\n",
      "    <ex:title>Das leere Haus</ex:title>\n",
      "    <rdf:type rdf:resource=\"http://example.org#buch\"/>\n",
      "    <ex:autor>Blackwood</ex:autor>\n",
      "  </rdf:Description>\n",
      "</rdf:RDF>\n",
      "\n"
     ]
    }
   ],
   "source": [
    "g = Graph()\n",
    "r = g.parse('sammlung.rdf', format='nt')\n",
    "g.bind('ex', 'http://example.org#')\n",
    "print(g.serialize(format='xml').decode('utf-8'))"
   ]
  },
  {
   "cell_type": "code",
   "execution_count": 35,
   "metadata": {},
   "outputs": [
    {
     "name": "stdout",
     "output_type": "stream",
     "text": [
      "3\n"
     ]
    }
   ],
   "source": [
    "g = Graph()\n",
    "r = g.parse('sammlung.rdf', format='nt')\n",
    "g.bind('ex', 'http://example.org#')\n",
    "print (len(g))"
   ]
  },
  {
   "cell_type": "code",
   "execution_count": null,
   "metadata": {},
   "outputs": [],
   "source": []
  }
 ],
 "metadata": {
  "kernelspec": {
   "display_name": "Python 3",
   "language": "python",
   "name": "python3"
  },
  "language_info": {
   "codemirror_mode": {
    "name": "ipython",
    "version": 3
   },
   "file_extension": ".py",
   "mimetype": "text/x-python",
   "name": "python",
   "nbconvert_exporter": "python",
   "pygments_lexer": "ipython3",
   "version": "3.6.4"
  }
 },
 "nbformat": 4,
 "nbformat_minor": 2
}
