{
 "cells": [
  {
   "cell_type": "markdown",
   "metadata": {
    "deletable": false
   },
   "source": [
    "# Schema: XML Schema"
   ]
  },
  {
   "cell_type": "markdown",
   "metadata": {
    "deletable": false
   },
   "source": [
    "Ähnlich wie die Document Type Definition (DTD), ermöglicht auch XML Schema die Spezifikation von XML Dokumente und somit das Validieren solcher Dokumente. Ziel beider Grammatiken ist die Interoperabilität zwischen entwickelten Systeme zu ermöglichen oder erhöhen. In dieser Übung schauen wir uns XML Schema etwas genauer in der Praxis an. Führen Sie zuerst den folgenden Codeblock aus und machen Sie dann der Reihe nach weiter. Beantworten Sie die Fragen (falls zutreffend). Zum Schluss, schreiben Sie ein eigenes XML Schema und ein exemplarisches XML Dokument dafür. Stellen Sie sicher, dass das XML Dokument wohlgeformt und gültig ist."
   ]
  },
  {
   "cell_type": "code",
   "execution_count": 1,
   "metadata": {
    "deletable": false
   },
   "outputs": [],
   "source": [
    "import io\n",
    "from lxml import etree as et\n",
    "\n",
    "def isvalid(xsd, doc):\n",
    "    print(et.XMLSchema(et.parse(io.StringIO(xsd))).validate(et.fromstring(doc)))"
   ]
  },
  {
   "cell_type": "code",
   "execution_count": 2,
   "metadata": {
    "deletable": false
   },
   "outputs": [
    {
     "name": "stdout",
     "output_type": "stream",
     "text": [
      "True\n",
      "False\n"
     ]
    }
   ],
   "source": [
    "xsd = \"\"\"\n",
    "<xs:schema xmlns:xs=\"http://www.w3.org/2001/XMLSchema\">\n",
    "  <xs:element name=\"discography\"/>\n",
    "</xs:schema>\n",
    "\"\"\"\n",
    "\n",
    "isvalid(xsd, '<discography/>')\n",
    "isvalid(xsd, '<albums/>') # Warum ist dieses Dokument nicht gültig? Antwort: das deklarierte Element \"discography\" stimmt nicht mit diesem Element \"albums\" überein."
   ]
  },
  {
   "cell_type": "code",
   "execution_count": 3,
   "metadata": {
    "deletable": false
   },
   "outputs": [
    {
     "name": "stdout",
     "output_type": "stream",
     "text": [
      "True\n",
      "True\n"
     ]
    }
   ],
   "source": [
    "xsd = \"\"\"\n",
    "<xs:schema xmlns:xs=\"http://www.w3.org/2001/XMLSchema\">\n",
    "  <xs:element name=\"title\" type=\"xs:string\"/>\n",
    "</xs:schema>\n",
    "\"\"\"\n",
    "\n",
    "isvalid(xsd, '<title>The Dark Side of the Moon</title>')\n",
    "isvalid(xsd, '<title>1973</title>') # Warum ist dieses Dokument gültig? Antwort: Der Elementtyp wird als String definiert. Hier ist allerdings eine Zahl verbaut."
   ]
  },
  {
   "cell_type": "code",
   "execution_count": 4,
   "metadata": {
    "deletable": false
   },
   "outputs": [
    {
     "name": "stdout",
     "output_type": "stream",
     "text": [
      "True\n",
      "False\n"
     ]
    }
   ],
   "source": [
    "xsd = \"\"\"\n",
    "<xs:schema xmlns:xs=\"http://www.w3.org/2001/XMLSchema\">\n",
    "  <xs:element name=\"year\" type=\"xs:decimal\"/>\n",
    "</xs:schema>\n",
    "\"\"\"\n",
    "\n",
    "isvalid(xsd, '<year>1973</year>')\n",
    "isvalid(xsd, '<year>The Dark Side of the Moon</year>') # Warum ist dieses Dokument nicht gültig? Antwort: Der Elementtyp wird als decimal angegeben. Hier wird jedoch ein String angegeben. "
   ]
  },
  {
   "cell_type": "code",
   "execution_count": 5,
   "metadata": {
    "deletable": false
   },
   "outputs": [
    {
     "name": "stdout",
     "output_type": "stream",
     "text": [
      "True\n"
     ]
    }
   ],
   "source": [
    "xsd = \"\"\"\n",
    "<xs:schema xmlns:xs=\"http://www.w3.org/2001/XMLSchema\">\n",
    "  <xs:element name=\"year\" type=\"xs:gYear\"/>\n",
    "</xs:schema>\n",
    "\"\"\"\n",
    "\n",
    "isvalid(xsd, '<year>1973</year>')"
   ]
  },
  {
   "cell_type": "code",
   "execution_count": 6,
   "metadata": {
    "deletable": false
   },
   "outputs": [
    {
     "name": "stdout",
     "output_type": "stream",
     "text": [
      "False\n"
     ]
    }
   ],
   "source": [
    "xsd = \"\"\"\n",
    "<xs:schema xmlns:xs=\"http://www.w3.org/2001/XMLSchema\">\n",
    "  <xs:element name=\"year\" type=\"xs:gMonth\"/>\n",
    "</xs:schema>\n",
    "\"\"\"\n",
    "\n",
    "isvalid(xsd, '<year>1973</year>') # Warum ist dieses Dokument nicht gültig? Antwort: Elementtyp fordert einen Monat, der sich ja bekanntlich aus höchstens zwei Zahlen zusammensetzt. Hier wird allerdings ein vierstelliges Jahr angegben."
   ]
  },
  {
   "cell_type": "markdown",
   "metadata": {
    "deletable": false
   },
   "source": [
    "## Komplexe Elemente Deklarieren: Variante I"
   ]
  },
  {
   "cell_type": "code",
   "execution_count": 7,
   "metadata": {
    "deletable": false
   },
   "outputs": [
    {
     "name": "stdout",
     "output_type": "stream",
     "text": [
      "True\n"
     ]
    }
   ],
   "source": [
    "xsd = \"\"\"\n",
    "<xs:schema xmlns:xs=\"http://www.w3.org/2001/XMLSchema\">\n",
    "  <xs:element name=\"album\">\n",
    "    <xs:complexType>\n",
    "      <xs:sequence>\n",
    "        <xs:element name=\"title\" type=\"xs:string\"/>\n",
    "        <xs:element name=\"label\" type=\"xs:string\"/>\n",
    "      </xs:sequence>\n",
    "    </xs:complexType>\n",
    "  </xs:element>\n",
    "</xs:schema>\n",
    "\"\"\"\n",
    "\n",
    "doc = \"\"\"\n",
    "<album>\n",
    "<title>The Dark Side of the Moon</title>\n",
    "<label>Harvest, EMI</label>\n",
    "</album>\n",
    "\"\"\"\n",
    "\n",
    "isvalid(xsd, doc)"
   ]
  },
  {
   "cell_type": "code",
   "execution_count": 8,
   "metadata": {
    "deletable": false
   },
   "outputs": [
    {
     "name": "stdout",
     "output_type": "stream",
     "text": [
      "False\n"
     ]
    }
   ],
   "source": [
    "xsd = \"\"\"\n",
    "<xs:schema xmlns:xs=\"http://www.w3.org/2001/XMLSchema\">\n",
    "  <xs:element name=\"album\">\n",
    "    <xs:complexType>\n",
    "      <xs:sequence>\n",
    "        <xs:element name=\"label\" type=\"xs:string\"/>\n",
    "        <xs:element name=\"title\" type=\"xs:string\"/>\n",
    "      </xs:sequence>\n",
    "    </xs:complexType>\n",
    "  </xs:element>\n",
    "</xs:schema>\n",
    "\"\"\"\n",
    "\n",
    "doc = \"\"\"\n",
    "<album>\n",
    "<title>The Dark Side of the Moon</title>\n",
    "<label>Harvest, EMI</label>\n",
    "</album>\n",
    "\"\"\"\n",
    "\n",
    "isvalid(xsd, doc) # Warum ist dieses Dokument nicht gültig? Antwort: Die Reihenfolge der deklarierten Elemente durch xs:sequence stimmt nicht mit dem doc überein. Die Elemente label und titel sind vertauscht."
   ]
  },
  {
   "cell_type": "code",
   "execution_count": 9,
   "metadata": {
    "deletable": false
   },
   "outputs": [
    {
     "name": "stdout",
     "output_type": "stream",
     "text": [
      "False\n"
     ]
    }
   ],
   "source": [
    "xsd = \"\"\"\n",
    "<xs:schema xmlns:xs=\"http://www.w3.org/2001/XMLSchema\">\n",
    "  <xs:element name=\"album\">\n",
    "    <xs:complexType>\n",
    "      <xs:sequence>\n",
    "        <xs:element name=\"title\" type=\"xs:string\"/>\n",
    "        <xs:element name=\"label\" type=\"xs:string\"/>\n",
    "      </xs:sequence>\n",
    "    </xs:complexType>\n",
    "  </xs:element>\n",
    "</xs:schema>\n",
    "\"\"\"\n",
    "\n",
    "doc = \"\"\"\n",
    "<album>\n",
    "<label>Harvest, EMI</label>\n",
    "<title>The Dark Side of the Moon</title>\n",
    "</album>\n",
    "\"\"\"\n",
    "\n",
    "isvalid(xsd, doc) # Warum ist dieses Dokument nicht gültig? Antwort: Die Reihenfolge der deklarierten Elemente durch xs:sequence stimmt nicht mit dem doc überein. Die Elemente label und titel sind vertauscht."
   ]
  },
  {
   "cell_type": "markdown",
   "metadata": {
    "deletable": false
   },
   "source": [
    "## Komplexe Elemente Deklarieren: Variante II"
   ]
  },
  {
   "cell_type": "code",
   "execution_count": 10,
   "metadata": {
    "deletable": false
   },
   "outputs": [
    {
     "name": "stdout",
     "output_type": "stream",
     "text": [
      "True\n"
     ]
    }
   ],
   "source": [
    "xsd = \"\"\"\n",
    "<xs:schema xmlns:xs=\"http://www.w3.org/2001/XMLSchema\">\n",
    "  <xs:element name=\"album\" type=\"AlbumType\"/>\n",
    "  \n",
    "  <xs:complexType name=\"AlbumType\">\n",
    "    <xs:sequence>\n",
    "      <xs:element name=\"title\" type=\"xs:string\"/>\n",
    "      <xs:element name=\"label\" type=\"xs:string\"/>\n",
    "    </xs:sequence>\n",
    "  </xs:complexType>\n",
    "\n",
    "</xs:schema>\n",
    "\"\"\"\n",
    "\n",
    "doc = \"\"\"\n",
    "<album>\n",
    "<title>The Dark Side of the Moon</title>\n",
    "<label>Harvest, EMI</label>\n",
    "</album>\n",
    "\"\"\"\n",
    "\n",
    "isvalid(xsd, doc)"
   ]
  },
  {
   "cell_type": "code",
   "execution_count": 11,
   "metadata": {
    "deletable": false
   },
   "outputs": [
    {
     "name": "stdout",
     "output_type": "stream",
     "text": [
      "True\n",
      "False\n"
     ]
    }
   ],
   "source": [
    "xsd = \"\"\"\n",
    "<xs:schema xmlns:xs=\"http://www.w3.org/2001/XMLSchema\">\n",
    "  <xs:element name=\"work\" type=\"WorkType\"/>\n",
    "  <xs:element name=\"album\" type=\"AlbumType\"/>\n",
    "  <xs:complexType name=\"WorkType\">\n",
    "    <xs:sequence>\n",
    "      <xs:element name=\"title\" type=\"xs:string\"/>\n",
    "    </xs:sequence>\n",
    "  </xs:complexType>\n",
    "  <xs:complexType name=\"AlbumType\">\n",
    "    <xs:complexContent>\n",
    "      <xs:extension base=\"WorkType\">\n",
    "        <xs:sequence>\n",
    "          <xs:element name=\"label\" type=\"xs:string\"/>\n",
    "        </xs:sequence>\n",
    "      </xs:extension>\n",
    "    </xs:complexContent>\n",
    " </xs:complexType>\n",
    "</xs:schema>\n",
    "\"\"\"\n",
    "\n",
    "doc = \"\"\"\n",
    "<album>\n",
    "<title>The Dark Side of the Moon</title>\n",
    "<label>Harvest, EMI</label>\n",
    "</album>\n",
    "\"\"\"\n",
    "\n",
    "isvalid(xsd, doc)\n",
    "\n",
    "doc = \"\"\"\n",
    "<album>\n",
    "<!-- The order matters -->\n",
    "<label>Harvest, EMI</label>\n",
    "<title>The Dark Side of the Moon</title>\n",
    "</album>\n",
    "\"\"\"\n",
    "\n",
    "isvalid(xsd, doc) # Warum ist dieses Dokument nicht gültig? Antwort: Die Reihenfolge der deklarierten Elemente durch xs:sequence stimmt nicht mit dem doc überein. Die Elemente label und titel sind vertauscht."
   ]
  },
  {
   "cell_type": "markdown",
   "metadata": {
    "deletable": false
   },
   "source": [
    "# Attribute Deklarieren"
   ]
  },
  {
   "cell_type": "code",
   "execution_count": 12,
   "metadata": {
    "deletable": false
   },
   "outputs": [
    {
     "name": "stdout",
     "output_type": "stream",
     "text": [
      "True\n"
     ]
    }
   ],
   "source": [
    "xsd = \"\"\"\n",
    "<xs:schema xmlns:xs=\"http://www.w3.org/2001/XMLSchema\">\n",
    "  <xs:element name=\"album\">\n",
    "    <xs:complexType>\n",
    "      <xs:attribute name=\"title\" type=\"xs:string\"/>\n",
    "    </xs:complexType>\n",
    "  </xs:element>\n",
    "</xs:schema>\n",
    "\"\"\"\n",
    "\n",
    "doc = \"\"\"\n",
    "<album title=\"The Dark Side of the Moon\"/>\n",
    "\"\"\"\n",
    "\n",
    "isvalid(xsd, doc)"
   ]
  },
  {
   "cell_type": "code",
   "execution_count": 13,
   "metadata": {
    "deletable": false
   },
   "outputs": [
    {
     "name": "stdout",
     "output_type": "stream",
     "text": [
      "True\n"
     ]
    }
   ],
   "source": [
    "xsd = \"\"\"\n",
    "<xs:schema xmlns:xs=\"http://www.w3.org/2001/XMLSchema\">\n",
    "  <xs:element name=\"album\">\n",
    "    <xs:complexType>\n",
    "      <xs:simpleContent>\n",
    "        <xs:extension base=\"xs:string\">\n",
    "          <xs:attribute name=\"year\" type=\"xs:gYear\" />\n",
    "        </xs:extension>\n",
    "      </xs:simpleContent>\n",
    "    </xs:complexType>\n",
    "  </xs:element>\n",
    "</xs:schema>\n",
    "\"\"\"\n",
    "\n",
    "doc = \"\"\"\n",
    "<album year=\"1973\">The Dark Side of the Moon</album>\n",
    "\"\"\"\n",
    "\n",
    "isvalid(xsd, doc)"
   ]
  },
  {
   "cell_type": "markdown",
   "metadata": {
    "deletable": false
   },
   "source": [
    "# Weitere Eigenschaften"
   ]
  },
  {
   "cell_type": "code",
   "execution_count": 14,
   "metadata": {
    "deletable": false
   },
   "outputs": [
    {
     "name": "stdout",
     "output_type": "stream",
     "text": [
      "True\n"
     ]
    }
   ],
   "source": [
    "xsd = \"\"\"\n",
    "<xs:schema xmlns:xs=\"http://www.w3.org/2001/XMLSchema\">\n",
    "  <xs:element name=\"album\">\n",
    "    <xs:complexType>\n",
    "      <xs:sequence>\n",
    "        <xs:element name=\"title\" type=\"xs:string\" maxOccurs=\"2\"/>\n",
    "        <xs:element name=\"label\" type=\"xs:string\"/>\n",
    "      </xs:sequence>\n",
    "    </xs:complexType>\n",
    "  </xs:element>\n",
    "</xs:schema>\n",
    "\"\"\"\n",
    "\n",
    "doc = \"\"\"\n",
    "<album>\n",
    "<title>The Dark Side of the Moon</title>\n",
    "<title>The Bright Side of the Moon</title>\n",
    "<label>Harvest, EMI</label>\n",
    "</album>\n",
    "\"\"\"\n",
    "\n",
    "isvalid(xsd, doc) # Warum ist dieses Dokument gültig? Antwort: durch maxOccurs=\"2\" darf das Element title im Dokument höchstens zweimal auftauchen, was es auch tut.title und label sind in der richtigen Reihenofolge wie es durch xs:sequence festgelegt worden ist."
   ]
  },
  {
   "cell_type": "code",
   "execution_count": 15,
   "metadata": {
    "deletable": false
   },
   "outputs": [
    {
     "name": "stdout",
     "output_type": "stream",
     "text": [
      "True\n",
      "True\n"
     ]
    }
   ],
   "source": [
    "xsd = \"\"\"\n",
    "<xs:schema xmlns:xs=\"http://www.w3.org/2001/XMLSchema\">\n",
    "  <xs:element name=\"album\">\n",
    "    <xs:complexType>\n",
    "      <xs:all>\n",
    "        <xs:element name=\"title\" type=\"xs:string\"/>\n",
    "        <xs:element name=\"label\" type=\"xs:string\"/>\n",
    "      </xs:all>\n",
    "    </xs:complexType>\n",
    "  </xs:element>\n",
    "</xs:schema>\n",
    "\"\"\"\n",
    "\n",
    "doc = \"\"\"\n",
    "<album>\n",
    "<title>The Dark Side of the Moon</title>\n",
    "<label>Harvest, EMI</label>\n",
    "</album>\n",
    "\"\"\"\n",
    "\n",
    "isvalid(xsd, doc)\n",
    "\n",
    "doc = \"\"\"\n",
    "<album>\n",
    "<label>Harvest, EMI</label>\n",
    "<title>The Dark Side of the Moon</title>\n",
    "</album>\n",
    "\"\"\"\n",
    "\n",
    "isvalid(xsd, doc) # Warum ist dieses Dokument gültig? Antwort: durch xs:all wird eine beliebige Reihenfolge der Elemente im Dokument ermöglicht. "
   ]
  },
  {
   "cell_type": "code",
   "execution_count": 16,
   "metadata": {
    "deletable": false
   },
   "outputs": [
    {
     "name": "stdout",
     "output_type": "stream",
     "text": [
      "True\n",
      "True\n",
      "False\n"
     ]
    }
   ],
   "source": [
    "xsd = \"\"\"\n",
    "<xs:schema xmlns:xs=\"http://www.w3.org/2001/XMLSchema\">\n",
    "  <xs:element name=\"album\">\n",
    "    <xs:complexType>\n",
    "      <xs:choice>\n",
    "        <xs:element name=\"title\" type=\"xs:string\"/>\n",
    "        <xs:element name=\"label\" type=\"xs:string\"/>\n",
    "      </xs:choice>\n",
    "    </xs:complexType>\n",
    "  </xs:element>\n",
    "</xs:schema>\n",
    "\"\"\"\n",
    "\n",
    "doc = \"\"\"\n",
    "<album>\n",
    "<title>The Dark Side of the Moon</title>\n",
    "</album>\n",
    "\"\"\"\n",
    "\n",
    "isvalid(xsd, doc)\n",
    "\n",
    "doc = \"\"\"\n",
    "<album>\n",
    "<label>Harvest, EMI</label>\n",
    "</album>\n",
    "\"\"\"\n",
    "\n",
    "isvalid(xsd, doc)\n",
    "\n",
    "doc = \"\"\"\n",
    "<album>\n",
    "<title>The Dark Side of the Moon</title>\n",
    "<label>Harvest, EMI</label>\n",
    "</album>\n",
    "\"\"\"\n",
    "\n",
    "isvalid(xsd, doc) # Warum ist dieses Dokument nicht gültig? Antwort: durch xs:choice soll nur ein Element von title oder label vorkommen. Da hier beide auftauchen, ist es nicht gültig."
   ]
  },
  {
   "cell_type": "code",
   "execution_count": 17,
   "metadata": {
    "deletable": false
   },
   "outputs": [
    {
     "name": "stdout",
     "output_type": "stream",
     "text": [
      "True\n",
      "False\n"
     ]
    }
   ],
   "source": [
    "xsd = \"\"\"\n",
    "<xs:schema xmlns:xs=\"http://www.w3.org/2001/XMLSchema\">\n",
    "  <xs:element name=\"released\">\n",
    "    <xs:simpleType>\n",
    "      <xs:restriction base=\"xs:integer\">\n",
    "        <xs:minInclusive value=\"1950\"/>\n",
    "        <xs:maxInclusive value=\"2018\"/>\n",
    "      </xs:restriction>\n",
    "    </xs:simpleType>\n",
    "  </xs:element>\n",
    "</xs:schema>\n",
    "\"\"\"\n",
    "\n",
    "doc = \"\"\"\n",
    "<released>1973</released>\n",
    "\"\"\"\n",
    "\n",
    "isvalid(xsd, doc)\n",
    "\n",
    "doc = \"\"\"\n",
    "<released>2020</released>\n",
    "\"\"\"\n",
    "\n",
    "isvalid(xsd, doc) # Warum ist dieses Dokument nicht gültig? Antwort: Hier wird eine restriction vorgenommen, wobei ein Wert nicht 2018 überschreiten kann. Da hier der Wert 2020 auftaucht, ist das DOkument ungültig."
   ]
  },
  {
   "cell_type": "code",
   "execution_count": 18,
   "metadata": {
    "deletable": false
   },
   "outputs": [
    {
     "name": "stdout",
     "output_type": "stream",
     "text": [
      "True\n",
      "False\n"
     ]
    }
   ],
   "source": [
    "xsd = \"\"\"\n",
    "<xs:schema xmlns:xs=\"http://www.w3.org/2001/XMLSchema\">\n",
    "  <xs:element name=\"author\">\n",
    "    <xs:simpleType>\n",
    "      <xs:restriction base=\"xs:string\">\n",
    "        <xs:enumeration value=\"Roger Waters\"/>\n",
    "        <xs:enumeration value=\"David Gilmour\"/>\n",
    "        <xs:enumeration value=\"Syd Barrett\"/>\n",
    "      </xs:restriction>\n",
    "    </xs:simpleType>\n",
    "  </xs:element>\n",
    "</xs:schema>\n",
    "\"\"\"\n",
    "\n",
    "doc = \"\"\"\n",
    "<author>Roger Waters</author>\n",
    "\"\"\"\n",
    "\n",
    "isvalid(xsd, doc)\n",
    "\n",
    "doc = \"\"\"\n",
    "<author>Jimmy Page</author>\n",
    "\"\"\"\n",
    "\n",
    "isvalid(xsd, doc) # Warum ist dieses Dokument nicht gültig? Antwort: Hier wird wieder eine restriction vorgenommen, wobei der value \"Jimmy Page\" nicht in den deklarierten restrictions auftaucht und somit das Dokument nicht gültig ist."
   ]
  },
  {
   "cell_type": "code",
   "execution_count": 19,
   "metadata": {
    "deletable": false
   },
   "outputs": [
    {
     "name": "stdout",
     "output_type": "stream",
     "text": [
      "True\n",
      "False\n"
     ]
    }
   ],
   "source": [
    "xsd = \"\"\"\n",
    "<xs:schema xmlns:xs=\"http://www.w3.org/2001/XMLSchema\">\n",
    "  <xs:element name=\"author\">\n",
    "    <xs:simpleType>\n",
    "      <xs:restriction base=\"xs:string\">\n",
    "        <xs:pattern value=\"[A-Z][a-z]+\"/>\n",
    "      </xs:restriction>\n",
    "    </xs:simpleType>\n",
    "  </xs:element>\n",
    "</xs:schema>\n",
    "\"\"\"\n",
    "\n",
    "doc = \"\"\"\n",
    "<author>Waters</author>\n",
    "\"\"\"\n",
    "\n",
    "isvalid(xsd, doc)\n",
    "\n",
    "doc = \"\"\"\n",
    "<author>gilmour</author>\n",
    "\"\"\"\n",
    "\n",
    "isvalid(xsd, doc) # Warum ist dieses Dokument nicht gültig? Antwort: Das Wertemuster setzt einen Großbuchstaben am Anfang voraus. "
   ]
  },
  {
   "cell_type": "code",
   "execution_count": 20,
   "metadata": {
    "deletable": false
   },
   "outputs": [
    {
     "name": "stdout",
     "output_type": "stream",
     "text": [
      "True\n"
     ]
    }
   ],
   "source": [
    "xsd = \"\"\"\n",
    "<xs:schema xmlns:xs=\"http://www.w3.org/2001/XMLSchema\" \n",
    "  targetNamespace=\"http://example.org\"\n",
    "  elementFormDefault=\"qualified\">\n",
    "  <xs:element name=\"album\">\n",
    "    <xs:complexType>\n",
    "      <xs:sequence>\n",
    "        <xs:element name=\"title\" type=\"xs:string\"/>\n",
    "        <xs:element name=\"label\" type=\"xs:string\"/>\n",
    "      </xs:sequence>\n",
    "    </xs:complexType>\n",
    "  </xs:element>\n",
    "</xs:schema>\n",
    "\"\"\"\n",
    "\n",
    "doc = \"\"\"\n",
    "<album xmlns=\"http://example.org\">\n",
    "<title>The Dark Side of the Moon</title>\n",
    "<label>Harvest, EMI</label>\n",
    "</album>\n",
    "\"\"\"\n",
    "\n",
    "isvalid(xsd, doc)"
   ]
  },
  {
   "cell_type": "markdown",
   "metadata": {
    "deletable": false
   },
   "source": [
    "Denken Sie sich nun ein eigenes XML Dokument aus und erstellen Sie dafür ein XML Schema. Überprüfen Sie das XML Dokument auf Gültigkeit."
   ]
  },
  {
   "cell_type": "code",
   "execution_count": 45,
   "metadata": {
    "deletable": false
   },
   "outputs": [
    {
     "name": "stdout",
     "output_type": "stream",
     "text": [
      "True\n"
     ]
    }
   ],
   "source": [
    "xsd = \"\"\"\n",
    "<xs:schema xmlns:xs=\"http://www.w3.org/2001/XMLSchema\">\n",
    "<xs:element name=\"buchsammlung\">\n",
    "<xs:complexType>\n",
    "<xs:sequence>\n",
    "<xs:element name=\"titel\" type=\"xs:string\" maxOccurs=\"2\"/>\n",
    "<xs:element name=\"autor\">\n",
    "<xs:simpleType>\n",
    "<xs:restriction base=\"xs:string\">\n",
    "<xs:pattern value=\"[A-Z][a-z]+\"/>\n",
    "</xs:restriction>\n",
    "</xs:simpleType>\n",
    "</xs:element>\n",
    "</xs:sequence>\n",
    "</xs:complexType>\n",
    "</xs:element>\n",
    "</xs:schema>\n",
    "\"\"\"\n",
    "\n",
    "doc = \"\"\"\n",
    "<buchsammlung>\n",
    "<titel>Das leere Haus</titel>\n",
    "<titel>Das Totenschiff</titel>\n",
    "<autor>Blackwood</autor>\n",
    "</buchsammlung>\n",
    "\"\"\"\n",
    "\n",
    "isvalid(xsd, doc)"
   ]
  },
  {
   "cell_type": "code",
   "execution_count": null,
   "metadata": {},
   "outputs": [],
   "source": []
  }
 ],
 "metadata": {
  "kernelspec": {
   "display_name": "Python 3",
   "language": "python",
   "name": "python3"
  },
  "language_info": {
   "codemirror_mode": {
    "name": "ipython",
    "version": 3
   },
   "file_extension": ".py",
   "mimetype": "text/x-python",
   "name": "python",
   "nbconvert_exporter": "python",
   "pygments_lexer": "ipython3",
   "version": "3.6.4"
  }
 },
 "nbformat": 4,
 "nbformat_minor": 2
}
